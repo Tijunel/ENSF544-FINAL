{
 "cells": [
  {
   "cell_type": "markdown",
   "metadata": {},
   "source": [
    "<center><h1>Step 0 - Preprocessing</h1></center> "
   ]
  },
  {
   "cell_type": "markdown",
   "metadata": {},
   "source": [
    "In this section, we first read the data including the bug reports and source code files of all 12 projects and for ease of access, we save them as two pickle files in the ./Output directory. Therefore, this set of code will populate the ./Output directory with \"allBugReports.pickle\" which is a pandas dataframe that contains all the bug reports from all projects and \"allSourceCodes.pickle\" which is a pandas dataframe that contains all source files after preprocessing."
   ]
  },
  {
   "cell_type": "markdown",
   "metadata": {},
   "source": [
    "### Required Libraries"
   ]
  },
  {
   "cell_type": "code",
   "execution_count": 1,
   "metadata": {},
   "outputs": [
    {
     "name": "stdout",
     "output_type": "stream",
     "text": [
      "Requirement already satisfied: javalang in /Users/justintijunelis/opt/anaconda3/lib/python3.8/site-packages (0.13.0)\n",
      "Requirement already satisfied: six in /Users/justintijunelis/opt/anaconda3/lib/python3.8/site-packages (from javalang) (1.15.0)\n"
     ]
    }
   ],
   "source": [
    "!pip install javalang"
   ]
  },
  {
   "cell_type": "code",
   "execution_count": 2,
   "metadata": {},
   "outputs": [],
   "source": [
    "from __future__ import division\n",
    "import pandas as pd\n",
    "import numpy as np\n",
    "import os\n",
    "from os import listdir\n",
    "from os.path import isfile, join\n",
    "import warnings\n",
    "import javalang\n",
    "import re\n",
    "import glob\n",
    "import math\n",
    "import time\n",
    "import xml.etree.ElementTree as ET\n",
    "import requests\n",
    "from tqdm.notebook import tqdm as tq\n",
    "from time import gmtime, strftime\n",
    "from random import randint\n",
    "warnings.simplefilter(action='ignore', category=FutureWarning)"
   ]
  },
  {
   "cell_type": "markdown",
   "metadata": {},
   "source": [
    "<center><h1>Splitting code and natural language</h1></center> "
   ]
  },
  {
   "cell_type": "markdown",
   "metadata": {},
   "source": [
    "<center><h1>Loading source codes into pandas Dataframe</h1></center> "
   ]
  },
  {
   "cell_type": "code",
   "execution_count": 3,
   "metadata": {},
   "outputs": [],
   "source": [
    "def classNames_methodNames(node):\n",
    "    result=''\n",
    "    if isinstance(node,javalang.tree.MethodDeclaration) or isinstance(node,javalang.tree.ClassDeclaration):\n",
    "        return node.name.lower()+' '\n",
    "    if not (isinstance(node,javalang.tree.PackageDeclaration) or\n",
    "        isinstance(node,javalang.tree.FormalParameter) or\n",
    "       isinstance(node,javalang.tree.Import)):\n",
    "        if node:\n",
    "            if isinstance(node, javalang.ast.Node):\n",
    "                for childNode in node.children:\n",
    "                    result+=classNames_methodNames(childNode)\n",
    "    return result\n",
    "    \n",
    "def traverse_node(node,i=0):\n",
    "    i+=1\n",
    "    result=''\n",
    "    if not(isinstance(node,javalang.tree.PackageDeclaration)\n",
    "            or isinstance(node,javalang.tree.FormalParameter)            \n",
    "            or isinstance(node,javalang.tree.Import)\n",
    "            or isinstance(node,javalang.tree.CompilationUnit)):\n",
    "        if node:\n",
    "            if (isinstance(node,int) or isinstance(node,str) or isinstance(node,float)) and i==2:\n",
    "                result+=node+' '\n",
    "            if isinstance(node, javalang.ast.Node):\n",
    "                for childNode in node.children:\n",
    "                    result+=traverse_node(childNode,i)\n",
    "    return result\n",
    "\n",
    "def code_parser(code):\n",
    "    try:\n",
    "        tree = javalang.parse.parse(code)\n",
    "        return ''.join([traverse_node(node) for path, node in tree]) + ' ' + ''.join([classNames_methodNames(node)\n",
    "                                                                                      for path, node in tree])\n",
    "    except Exception as e: \n",
    "        print(e)\n",
    "        return ''\n",
    "\n",
    "def loadSourceFiles2df(PATH,project):\n",
    "    \"\"\"\n",
    "    Receives: group name and project name \n",
    "    Process: open the source file directory and finds all the java files,\n",
    "             and after preprocessing(using code_preprocessor) load them into a pandas dataframe \n",
    "    Returns: dataframe >> \"filename\",\"code\",\"size\"\n",
    "    \"\"\"\n",
    "    print('Loading source files of {}  ...'.format(project))\n",
    "    PATH=os.path.join(\"data\",project,\"gitrepo\")\n",
    "    all_source_files=glob.glob(PATH+'/**/*.java', recursive=True)\n",
    "    source_codes_df=pd.DataFrame([])\n",
    "    sourceCodesList=[]\n",
    "\n",
    "    for filename in tq(all_source_files):\n",
    "        code=open(filename,encoding='ISO-8859-1').read()\n",
    "        if 'src/' in filename:\n",
    "            sourceCodesList.append(dict({\"filename\":filename.split('src/')[1].replace('/','.').lower(),\n",
    "                                         \"unprocessed_code\":code,\n",
    "                                         'project':project}))\n",
    "        else:\n",
    "            sourceCodesList.append(dict({\"filename\":filename.split(project)[1].replace('/','.').lower(),\n",
    "                                         \"unprocessed_code\":code,\n",
    "                                         'project':project}))\n",
    "    source_codes_df=source_codes_df.append(pd.DataFrame(sourceCodesList))\n",
    "    return source_codes_df\n",
    "\n",
    "def load_all_SCs(dataPath):\n",
    "    print('\\tLoading all source codes ... ')\n",
    "    source_codes_df=pd.DataFrame([])\n",
    "    all_projects= [folder for folder in listdir(dataPath)]\n",
    "    for project in all_projects:\n",
    "        source_path=os.path.join(dataPath,project,\"gitrepo\")\n",
    "        source_codes_df=source_codes_df.append(loadSourceFiles2df(source_path,project))\n",
    "    return source_codes_df"
   ]
  },
  {
   "cell_type": "markdown",
   "metadata": {},
   "source": [
    "<center><h1>Loading bug reports pandas Dataframe</h1></center> "
   ]
  },
  {
   "cell_type": "code",
   "execution_count": 4,
   "metadata": {},
   "outputs": [],
   "source": [
    "def loadBugs2df(PATH,project):\n",
    "    \"\"\"\n",
    "    @Receives: the path to bug repository (the xml file)\n",
    "    @Process: Parses the xml file and reads the fix files per bug id. \n",
    "    @Returns: Returns the dataframe\n",
    "    \"\"\"\n",
    "    print(\"Loading Bug reports ... \")\n",
    "    all_bugs_df=pd.DataFrame([],columns=[\"id\",\"fix\",\"text\",\"fixdate\"])\n",
    "    bugRepo = ET.parse(PATH).getroot()\n",
    "    buglist=[]                   \n",
    "    for bug in tq(bugRepo.findall('bug')):\n",
    "        bugDict=dict({\"id\":bug.attrib['id'],\"fix\":[],\"fixdate\":bug.attrib['fixdate']\n",
    "                      ,\"summary\":None,\"description\":None,\"project\":project,\"average_precision\":0.0})\n",
    "        for bugDetail in bug.find('buginformation'):\n",
    "            if bugDetail.tag=='summary':\n",
    "                bugDict[\"summary\"]=bugDetail.text\n",
    "            elif bugDetail.tag=='description':\n",
    "                bugDict[\"description\"]=bugDetail.text\n",
    "        bugDict[\"fix\"]=np.array([fixFile.text.replace('/','.').lower() for fixFile in bug.find('fixedFiles')])\n",
    "        summary=str(bugDict['summary']) if str(bugDict['summary']) !=np.nan else \"\"\n",
    "        description=str(bugDict['description']) if str(bugDict['description']) !=np.nan else \"\"\n",
    "        buglist.append(bugDict)\n",
    "    all_bugs_df=all_bugs_df.append(pd.DataFrame(buglist))\n",
    "    return all_bugs_df.set_index('id')\n",
    "\n",
    "def load_all_BRs(dataPath):\n",
    "    print('\\tLoading all bug reports ... ')\n",
    "    all_bugs_df=pd.DataFrame([])\n",
    "    all_projects= [folder for folder in listdir(dataPath)]\n",
    "    for project in all_projects:\n",
    "        data_path=os.path.join(dataPath,project,\"bugrepo\",\"repository.xml\")\n",
    "        all_bugs_df=all_bugs_df.append(loadBugs2df(data_path,project))\n",
    "        print(len(all_bugs_df))\n",
    "    return all_bugs_df"
   ]
  },
  {
   "cell_type": "markdown",
   "metadata": {},
   "source": [
    "\n",
    "<center><h1>Main Preprocessing class</h1></center> "
   ]
  },
  {
   "cell_type": "code",
   "execution_count": 5,
   "metadata": {},
   "outputs": [],
   "source": [
    "class PreprocessingUnit:\n",
    "    all_projects_source_codes=pd.DataFrame([])\n",
    "    all_projects_bugreports=pd.DataFrame([])\n",
    "    \n",
    "    def __init__(self,dataPath):\n",
    "        self.dataPath=dataPath\n",
    "        self.dataFolder=os.path.join(os.getcwd(),'Output')\n",
    "        if not os.path.exists(self.dataFolder):\n",
    "            os.makedirs(self.dataFolder)\n",
    "            \n",
    "    def execute(self):\n",
    "        self.loadEverything()\n",
    "\n",
    "    def loadEverything(self):\n",
    "        vectorize=False\n",
    "        if PreprocessingUnit.all_projects_bugreports.empty:\n",
    "            bugReportFile=os.path.join(self.dataFolder,'allBugReports.pickle')\n",
    "            if not os.path.isfile(bugReportFile):\n",
    "                PreprocessingUnit.all_projects_bugreports=load_all_BRs(dataPath=self.dataPath)\n",
    "                vectorize=True\n",
    "                PreprocessingUnit.all_projects_bugreports.to_pickle(bugReportFile)\n",
    "            else: \n",
    "                PreprocessingUnit.all_projects_bugreports=pd.read_pickle(bugReportFile)\n",
    "        print(\"*** All bug reports are are preprocessed and stored as: {} ***\".format('/'.join(bugReportFile.split('/')[-2:])))\n",
    "\n",
    "        if PreprocessingUnit.all_projects_source_codes.empty:\n",
    "            sourceCodeFile=os.path.join(self.dataFolder,'allSourceCodes.pickle')\n",
    "            if not os.path.isfile(sourceCodeFile):\n",
    "                PreprocessingUnit.all_projects_source_codes=load_all_SCs(dataPath=self.dataPath)\n",
    "                vectorize=True\n",
    "                PreprocessingUnit.all_projects_source_codes.to_pickle(sourceCodeFile)\n",
    "            else:\n",
    "                PreprocessingUnit.all_projects_source_codes=pd.read_pickle(sourceCodeFile)\n",
    "        print(\"*** All source codes are preprocessed and stored as: {} ***\".format('/'.join(sourceCodeFile.split('/')[-2:])))\n",
    "        "
   ]
  },
  {
   "cell_type": "markdown",
   "metadata": {},
   "source": [
    "### MAIN"
   ]
  },
  {
   "cell_type": "code",
   "execution_count": 6,
   "metadata": {},
   "outputs": [
    {
     "name": "stdout",
     "output_type": "stream",
     "text": [
      "*** All bug reports are are preprocessed and stored as: Output/allBugReports.pickle ***\n",
      "*** All source codes are preprocessed and stored as: Output/allSourceCodes.pickle ***\n"
     ]
    }
   ],
   "source": [
    "if __name__==\"__main__\":\n",
    "    config={'DATA_PATH':os.path.join('data')}\n",
    "    preprocessor=PreprocessingUnit(dataPath=config['DATA_PATH'])\n",
    "    preprocessor.execute()"
   ]
  },
  {
   "cell_type": "code",
   "execution_count": 7,
   "metadata": {},
   "outputs": [
    {
     "name": "stdout",
     "output_type": "stream",
     "text": [
      "*** All Bug Reports are Loaded. ***\n",
      "*** All Source Codes are Loaded. ***\n"
     ]
    },
    {
     "data": {
      "text/plain": [
       "1858"
      ]
     },
     "metadata": {},
     "output_type": "display_data"
    },
    {
     "data": {
      "text/plain": [
       "10461"
      ]
     },
     "metadata": {},
     "output_type": "display_data"
    }
   ],
   "source": [
    "def loadEverything():\n",
    "    all_projects_bugreports = pd.read_pickle('Output/allBugReports.pickle')\n",
    "    print(\"*** All Bug Reports are Loaded. ***\")\n",
    "    all_projects_source_codes = pd.read_pickle('Output/allSourceCodes.pickle')\n",
    "    print(\"*** All Source Codes are Loaded. ***\")\n",
    "    return all_projects_bugreports, all_projects_source_codes\n",
    "\n",
    "all_projects_bugreports, all_projects_source_codes = loadEverything()\n",
    "display(len(all_projects_bugreports))\n",
    "display(len(all_projects_source_codes))\n",
    "\n"
   ]
  },
  {
   "cell_type": "markdown",
   "metadata": {},
   "source": [
    "# ASSIGNMENT START\n",
    "\n",
    "There are several software engineering (SE) problems that can be investigated using machine learning. Among them, we will be working on a problem called \"Fault Localization\" (FL). The goal of FL is to automatically locate a fault entity (e.g. a source file, a class, a method, etc) in source code. There are different variations of FL and we will focus on Information Retrieval based FL (IRFL). This article explains FL: https://ink.library.smu.edu.sg/cgi/viewcontent.cgi?article=2530&context=sis_research\n",
    "\n",
    "In short, the idea is, given a new bug report document, we want to automatically identify the source code file that most likely needs a fix, so we can save time for debugging. \n",
    "\n",
    "To do this, we may use the previous bug resports and identify the locations (files) that have been patched as our training set. So, we build an IRFL model that:\n",
    "\n",
    "- Finds the textual similarity between the new bug report and the historical ones. \n",
    "- Then rank historically patched source files based on how similar their bug reports are to the new bug report."
   ]
  },
  {
   "cell_type": "markdown",
   "metadata": {},
   "source": [
    "# Let's import some things that will help us"
   ]
  },
  {
   "cell_type": "code",
   "execution_count": 8,
   "metadata": {},
   "outputs": [
    {
     "name": "stderr",
     "output_type": "stream",
     "text": [
      "[nltk_data] Downloading package punkt to\n",
      "[nltk_data]     /Users/justintijunelis/nltk_data...\n",
      "[nltk_data]   Package punkt is already up-to-date!\n",
      "[nltk_data] Downloading package stopwords to\n",
      "[nltk_data]     /Users/justintijunelis/nltk_data...\n",
      "[nltk_data]   Package stopwords is already up-to-date!\n"
     ]
    },
    {
     "data": {
      "text/plain": [
       "True"
      ]
     },
     "execution_count": 8,
     "metadata": {},
     "output_type": "execute_result"
    }
   ],
   "source": [
    "# Key Imports\n",
    "import re\n",
    "import sys\n",
    "import nltk\n",
    "from nltk.corpus import stopwords \n",
    "from nltk.tokenize import word_tokenize \n",
    "from nltk.stem import PorterStemmer\n",
    "from sklearn.feature_extraction.text import TfidfVectorizer\n",
    "from sklearn.metrics.pairwise import cosine_similarity\n",
    "from collections import defaultdict\n",
    "import multiprocessing as mp\n",
    "from copy import deepcopy\n",
    "import matplotlib.pyplot as plt\n",
    "\n",
    "cores = mp.cpu_count()\n",
    "\n",
    "# Download some stuff to run the code\n",
    "nltk.download('punkt')\n",
    "nltk.download('stopwords')"
   ]
  },
  {
   "cell_type": "markdown",
   "metadata": {},
   "source": [
    "# Data Pre-processing\n",
    "\n",
    "First, we need to create our training set. Using `all_projects_bug_reports` and `all_projects_source_codes`.\n",
    "\n",
    "We will clean the bug report and source code text by creating a function that will:\n",
    "\n",
    "1. Make all text lowercase.\n",
    "2. Remove all punctuation from the text and replace it with white space.\n",
    "3. Remove all repetitive white space from the text.\n",
    "4. Remove imports and packages from source code as they are not that likely to impact our bug finding ability.\n",
    "5. Space out words in camel case variables as these may provide some depth.\n",
    "6. Remove all numbers as these are unlikely to be relevant, especially with noise in comments like copyright years.\n",
    "7. Replace all duplicate white space with singular white space.\n",
    "8. Tokenize the filtered string and removes stem words\n",
    "\n",
    "Then, we will clean the bug reports by:\n",
    "\n",
    "1. Concatenating the bug summary and description, then using the our cleaner we developed earlier.\n",
    "2. Dropping any reports that are composed of entirely stopped and/or banned words.\n",
    "3. We can drop the summary and description since we will only process once.\n",
    "\n",
    "Then, we will clean the source code files by:\n",
    "\n",
    "1. Apply the clean text function to the source code.\n",
    "2. Renaming `unprocessed_code` to `code`.\n",
    "3. Dropping any source code that does not contain any filtered text.\n",
    "\n",
    "Finally, the author noticed that some of the bug reports fixed files no longer exist! These bug reports should be dropped entirely.\n",
    "\n",
    "# Potential Improvements\n",
    "\n",
    "There may be some commonalities that we could remove that are language specific. For example, words like class, void, public, private, and other common syntax in Java could help us identify the more unique parts of the source code. Additionally, we could remove copyright notices that are shared between all files. Finally, we could try to do an analysis of results with different filtering methods and see which methods create the greatest statistical difference. We could use a two-sample proportions test or a variety of other tests that could tell us if making changes makes a statistical difference. Unfortunately, the author of this report has other homework and is pretty burnt out.\n",
    "\n",
    "One further improvement to cleaning out irrelevant data is finding bug reports where some fixed files still exist, but others do not, and thus removing the files from the fixed list if they do not exist, and keeping the ones that do still exist. Although, one could argue that if any of the fixed files are missing, they should be removed entirely.\n",
    "\n",
    "We could also argue that files that have tests for them are less likely to have bugs, so we could apply some sort of weighting for files that do/don't have tests."
   ]
  },
  {
   "cell_type": "code",
   "execution_count": 272,
   "metadata": {},
   "outputs": [],
   "source": [
    "def clean_text(text):\n",
    "  # Remove imports\n",
    "  text = re.sub(r\"import\\s.*;\", \"\", text)\n",
    "  # Remove packages\n",
    "  text = re.sub(r\"package\\s.*;\", \"\", text)\n",
    "  # Space out camel case (https://stackoverflow.com/questions/5020906/python-convert-camel-case-to-space-delimited-using-regex-and-taking-acronyms-in)\n",
    "  text = re.sub(r\"((?<=[a-z])[A-Z]|(?<!\\A)[A-Z](?=[a-z]))\", r\" \\1\", text)\n",
    "  # Replace punctuation with spaces (https://stackoverflow.com/questions/68590438/replace-punctuation-with-space-in-text)\n",
    "  text = re.sub(r\"(?:[^\\w\\s]|_)+\", \" \", text)\n",
    "  # Replace white space or repeating whitespace with single space\n",
    "  text = re.sub(\"\\s+\", \" \", text) \n",
    "  # Remove all numbers\n",
    "  text = re.sub(r\"[0-9]+\", \"\", text)\n",
    "  # Remove HTML tags? # Remove static, int, char, etc\n",
    "  \n",
    "  # Make everything lowercase\n",
    "  text = text.lower()\n",
    "\n",
    "  # Tokenize the words, remove all stop words, and a list of common words we don't want to include\n",
    "  banned_tokens = [\"copyright\", \"void\"]\n",
    "  tokenized = word_tokenize(text) \n",
    "  tokens = []\n",
    "  for token in tokenized:\n",
    "    if token not in stopwords.words('english') and token not in banned_tokens:\n",
    "      tokens.append(token)\n",
    "\n",
    "  # Stem all words using Porter Stemming\n",
    "  stemmer = PorterStemmer()\n",
    "  tokens = [stemmer.stem(token) for token in tokens]\n",
    "\n",
    "  # Recreate the text\n",
    "  return \" \".join(tokens)\n",
    "\n",
    "def process_bug_reports(bug_reports):\n",
    "  reports_to_drop = []\n",
    "  for row, bug_report in bug_reports.iterrows():\n",
    "    description = bug_report['description']\n",
    "    summary = bug_report['summary']\n",
    "    bug_text = \"\"\n",
    "    if isinstance(description, str):\n",
    "      bug_text += description\n",
    "    if isinstance(summary, str):\n",
    "      bug_text += summary\n",
    "    bug_text = clean_text(bug_text)\n",
    "\n",
    "    # Skip and delete the row if the bug text is empty\n",
    "    if bug_text == \"\":\n",
    "      reports_to_drop.append(row)\n",
    "    else:\n",
    "      bug_reports.at[row, 'text'] = bug_text\n",
    "\n",
    "  # Drop bad reports and unnecessary columns\n",
    "  bug_reports.drop(reports_to_drop, axis = 0, inplace = True)\n",
    "  bug_reports.drop('summary', axis = 1, inplace = True)\n",
    "  bug_reports.drop('description', axis = 1, inplace = True)\n",
    "  bug_reports['similarities'] = [[] for _ in range(len(bug_reports))]\n",
    "  return bug_reports\n",
    "\n",
    "def process_source_files(source_files):\n",
    "  source_files['unprocessed_code'] = source_files['unprocessed_code'].apply(lambda t: clean_text(t))\n",
    "  source_files.rename(columns={\"unprocessed_code\": \"code\"}, inplace = True)\n",
    "  source_files = source_files[source_files['code'] != \"\"]\n",
    "  return source_files\n",
    "\n",
    "def remove_irrelevant_bug_reports(bug_reports, source_files):\n",
    "  \"\"\"\n",
    "  This function removes bug reports in place where its fixed source files could not be found in the existing dataset.\n",
    "  \"\"\"\n",
    "  # Split the source files into project to improve loop efficiency (only search relevant source files for bugs)\n",
    "  projects = bug_reports['project'].unique()\n",
    "  project_source_files = defaultdict()\n",
    "  for project in projects:\n",
    "    project_source_files[project] = source_files[source_files['project'] == project]['filename']\n",
    "  \n",
    "  # Remove the bug reports for which no fixed source files could be found\n",
    "  reports_to_drop = []\n",
    "  for row, bug_report in bug_reports.iterrows():\n",
    "    fixed_files = bug_report['fix']\n",
    "    fixed_files_found = 0\n",
    "    for fixed_file in fixed_files:\n",
    "      for existing_file in project_source_files[bug_report['project']]:\n",
    "        if fixed_file in existing_file or fixed_file == existing_file:\n",
    "          fixed_files_found += 1\n",
    "    if fixed_files_found == 0:\n",
    "      reports_to_drop.append(row)\n",
    "\n",
    "  # Remove the irrelevant bug reports\n",
    "  bug_reports.drop(reports_to_drop, axis = 0, inplace = True)\n",
    "      "
   ]
  },
  {
   "cell_type": "markdown",
   "metadata": {},
   "source": [
    "Process the bug reports and source files using multiprocessing. This will take quite a while on anyone's computer. Time on an M1 Apple laptop took about 2 minutes.\n",
    "\n",
    "If you are on a PC, a windows version of the code will be executed below. However, the author of the code does not have a windows machine to test on right now so it is likely to fail. Worst case, call the functions directly without any multiprocessing, but make sure to pass copies of the dataframes, not references."
   ]
  },
  {
   "cell_type": "code",
   "execution_count": 273,
   "metadata": {},
   "outputs": [],
   "source": [
    "if __name__ == \"__main__\":\n",
    "  if os.name == 'posix':\n",
    "    with mp.get_context('fork').Pool(processes = cores) as p:\n",
    "      bug_reports = pd.concat(\n",
    "        p.map(\n",
    "          process_bug_reports, \n",
    "          np.array_split(all_projects_bugreports.copy(), cores)\n",
    "        )\n",
    "      )\n",
    "    with mp.get_context('fork').Pool(processes = cores) as p:\n",
    "      source_files = pd.concat(\n",
    "        p.map(\n",
    "          process_source_files, \n",
    "          np.array_split(all_projects_source_codes.copy(), cores)\n",
    "        )\n",
    "      )\n",
    "  elif os.name == 'nt': # This MIGHT work\n",
    "    with mp.Pool(processes = cores) as p:\n",
    "      bug_reports = pd.concat(\n",
    "        p.map(\n",
    "          process_bug_reports, \n",
    "          np.array_split(all_projects_bugreports.copy(), cores)\n",
    "        )\n",
    "      )\n",
    "    with mp.Pool(processes = cores) as p:\n",
    "      source_files = pd.concat(\n",
    "        p.map(\n",
    "          process_source_files, \n",
    "          np.array_split(all_projects_source_codes.copy(), cores)\n",
    "        )\n",
    "      )\n",
    "  elif os.name == 'java':\n",
    "    # Sorry\n",
    "    pass\n",
    "  remove_irrelevant_bug_reports(bug_reports, source_files)"
   ]
  },
  {
   "cell_type": "markdown",
   "metadata": {},
   "source": [
    "# Calculating Similarities\n",
    "\n",
    "Since our dataset has multiple projects, and each project has multiple bug reports, we don't want to compare bug reports with files of a project they don't belong to. So, we will compare a bug report to all the files in its respective project. \n",
    "\n",
    "To compute similarity between a bug report and it's project file:\n",
    "\n",
    "1. Iterate through each file of the bug report's project.\n",
    "2. Create a TF-IDF vectorizer and fit and transform the file's source code since we want to compare against the source code.\n",
    "3. Transform the bug report's text with the vectorizer.\n",
    "4. Compare the similarity of the two resulting vectors using cosine distance.\n",
    "\n",
    "We will iterate through each bug report and generate its similarity, then return a list of similarities that will implicitely map to each bug report.\n",
    "\n",
    "Note that inverting the vectorizer transform order was attempted but yielded worse results. This is likely because we want to fit on a larger dataset and compare bug descriptions against source code, rather than comparing source code against a bug description.\n",
    "\n",
    "We set the `sublinear_tf` to `True` for the TfidfVectorizer as the BugLocator paper indicated that this could lead to better performance. In fact, this led to a slight bump in performance. The paper uses a revised Vector Space Model to compute similarities between documents which accounts for the finding that longer source code files are more likely to have bugs. Since TF-IDF will give more weight to shorter documents, they applied their method to provide more weight to larger documents. Given the complexity of implementing their algorithm from scratch, we will utilize the TfidfVectorizer provided by scikit-learn."
   ]
  },
  {
   "cell_type": "code",
   "execution_count": 274,
   "metadata": {},
   "outputs": [],
   "source": [
    "def calculate_similarity(bug_report, source_files): # TODO: Make one generic function for method two as well\n",
    "  # Find the similarity score\n",
    "  vectorizer = TfidfVectorizer(sublinear_tf = True)\n",
    "  source_vector = vectorizer.fit_transform(source_files['code'])\n",
    "  bug_vector = vectorizer.transform([bug_report['text']])\n",
    "  similarity_score = cosine_similarity(source_vector, bug_vector)\n",
    "\n",
    "  # Extract the score\n",
    "  scores = []\n",
    "  for score in similarity_score:\n",
    "    scores.append(score[0])\n",
    "\n",
    "  # Let's normalize the scores\n",
    "  x_max = max(scores)\n",
    "  x_min = min(scores)\n",
    "  for i, score in enumerate(scores):\n",
    "    normalized = (score - x_min) / (x_max - x_min)\n",
    "    scores[i] = normalized\n",
    "\n",
    "  # Sort the values\n",
    "  df = pd.DataFrame()\n",
    "  df['scores'] = np.array(scores)\n",
    "  df['files'] = source_files['filename'].values\n",
    "  df = df.sort_values('scores', ascending = False)\n",
    "\n",
    "  # Create a tuple array\n",
    "  tuples = []\n",
    "  for file, score in zip(df['files'].values, df['scores'].values):\n",
    "    tuples.append((file, score))\n",
    "  return tuples\n",
    "\n",
    "def compute_similarities(bug_reports, source_files):\n",
    "  for row, bug_report in bug_reports.iterrows():\n",
    "    bug_reports.at[row, 'similarities'] = calculate_similarity(bug_report, source_files)\n",
    "  return bug_reports\n"
   ]
  },
  {
   "cell_type": "markdown",
   "metadata": {},
   "source": [
    "Compute the similarities. Again, this was built to run on POSIX machines, but there is code to run on Windows. However, it may not work as the author has not tested on a windows machine."
   ]
  },
  {
   "cell_type": "code",
   "execution_count": 275,
   "metadata": {},
   "outputs": [],
   "source": [
    "if __name__ == \"__main__\":\n",
    "  # Create project groups for bugs and source files and processes them separately\n",
    "  project_bug_reports = [group for _, group in bug_reports.groupby('project')]\n",
    "  project_source_files = [group for _, group in source_files.groupby('project')]\n",
    "  if os.name == 'posix':\n",
    "    with mp.get_context('fork').Pool(processes = len(project_bug_reports)) as p:\n",
    "      bug_reports = pd.concat(\n",
    "        p.starmap(\n",
    "          compute_similarities,\n",
    "          zip(project_bug_reports, project_source_files)\n",
    "        )\n",
    "      )\n",
    "  elif os.name == 'nt':\n",
    "    with mp.Pool(processes = len(project_bug_reports)) as p:\n",
    "      bug_reports = pd.concat(\n",
    "        p.starmap(\n",
    "          compute_similarities,\n",
    "          zip(project_bug_reports, project_source_files)\n",
    "        )\n",
    "      )\n",
    "  elif os.name == 'java':\n",
    "    # Sorry\n",
    "    pass"
   ]
  },
  {
   "cell_type": "markdown",
   "metadata": {},
   "source": [
    "# MRR (Mean Reciprocal Rank) scores\n",
    "\n",
    "Our dataset doesn't quite fit with the MRR formula, so we have to improvise. The MRR formula assumes that there is only one query element for a search set (e.g. for set A, B, C, we have a query of A). Since we have a list of queries (e.g. for a set A, B, C, we have a query A, B), our query is a subset of the search set, rather than an element. \n",
    "\n",
    "If our query is A, B and the search set is A, B, C, we expect our MRR to be 1. However, using the formula would give us 3/4. So, what we can do is iterate through each element of the query and calculate an MRR, then, *remove* that query element from the subset. \n",
    "\n",
    "It looks something like this:\n",
    "\n",
    "- Query: A, B -> Search Set: A, B, C\n",
    "- Calculate MRR for A -> 1/1\n",
    "- Remove A from the Search Set, which becomes: B, C\n",
    "- Query A -> Search Set: B, C\n",
    "- Calculate MRR for B -> 1/1\n",
    "- Remove B from the Search Set, which becomes: C\n",
    "- Done\n",
    "- Calculate Adjusted MRR with: (MRR_A + MRR_B)/2 = 1\n",
    "\n",
    "BUT, what happens if the query is B, A? We still get an adjusted score of 3/4. To avoid this, we need to *sort* the query to be in the same order as the elements appear in the search set.\n",
    "\n",
    "We use the following formula for finding MRR:\n",
    "\n",
    "$MRR = \\frac{1}{|Q|}\\sum_{i=1}^{|Q|} \\frac{1}{rank_i}$\n",
    "\n"
   ]
  },
  {
   "cell_type": "code",
   "execution_count": 276,
   "metadata": {},
   "outputs": [],
   "source": [
    "def calculate_adjusted_MRR(bug_report, score_label):\n",
    "  fixed_files = bug_report['fix']\n",
    "  project_file_similarities = deepcopy(bug_report[score_label])\n",
    "\n",
    "  # Sort the fixed files to be in the same order as they appear in the project file similarities\n",
    "  i = 0\n",
    "  temp_fixed_files = []\n",
    "  for similarity in project_file_similarities:\n",
    "    file = similarity[0]\n",
    "    if len(temp_fixed_files) == len(fixed_files):\n",
    "      break\n",
    "    for f in fixed_files:\n",
    "      if f in file or f == file:\n",
    "        temp_fixed_files.append(file)\n",
    "\n",
    "  # Otherwise, we will get an error, if we can't find any documents the score is 0.\n",
    "  if len(temp_fixed_files) == 0:\n",
    "    return 0\n",
    "  fixed_files = temp_fixed_files\n",
    "\n",
    "  # Calculate the MRR for the bug report\n",
    "  adjusted_reciprocals = []\n",
    "  for fixed_file in fixed_files:\n",
    "    # Find the ranking of the fixed file in the similarities array\n",
    "    similarity_index = 1\n",
    "    for i, similarity in enumerate(project_file_similarities):\n",
    "      file, _ = similarity\n",
    "      if file in fixed_file:\n",
    "        similarity_index = i + 1\n",
    "        break\n",
    "\n",
    "    # Calculate the similarity and shift the window\n",
    "    adjusted_reciprocals.append(1 / similarity_index)\n",
    "    del project_file_similarities[similarity_index - 1]\n",
    "\n",
    "  return np.mean(adjusted_reciprocals)"
   ]
  },
  {
   "cell_type": "markdown",
   "metadata": {},
   "source": [
    "# MAP (Mean Average Precision) scores\n",
    "\n",
    "To calculate the MAP, the formula described in the BugLocator paper along with other online research was utilized. There was a bug in the BugLocator paper that showed the variable with an `i` variable that should have been `j`, this was realized using the author's neural net when conducting secondary research. \n",
    "\n",
    "Average Precision of each query (bug):\n",
    "\n",
    "$AvgP_i = \\sum_{j=1}^{M} \\frac{P(j) × pos(j)}{\\text{number of positive instances}}$\n",
    "\n",
    "- Where *M* is the number documents.\n",
    "- *P(j)* is the number of positive instances in the top *j* positions.\n",
    "- *pos(j)* is whether the document at j is equal to a document in the query.\n",
    "- number of positive instances is the total number of query documents that are found in the documents.\n",
    "\n",
    "The MAP is the mean of all precisions."
   ]
  },
  {
   "cell_type": "code",
   "execution_count": 277,
   "metadata": {},
   "outputs": [],
   "source": [
    "def calculate_average_precision(bug_report, score_label):\n",
    "  fixed_files = bug_report['fix']\n",
    "  similarities = bug_report[score_label]\n",
    "\n",
    "  # Precompute some queries, otherwise this function will take hours to run if we do this in the for loop\n",
    "  fixed_file_indices = []\n",
    "  for fix in fixed_files:\n",
    "    for i in range(len(similarities)):\n",
    "      if fix in similarities[i][0] or fix == similarities[i][0]:\n",
    "        fixed_file_indices.append(i)\n",
    "\n",
    "  # Calculate the average precision outlined in the BugLocator paper\n",
    "  precision = []\n",
    "  for j in range(len(similarities)):\n",
    "    if j + 1 == len(similarities):\n",
    "      break\n",
    "\n",
    "    # Calculate P(j)\n",
    "    number_of_positive_instances_in_top_j = 0\n",
    "    for index in fixed_file_indices:\n",
    "      if index <= j:\n",
    "        number_of_positive_instances_in_top_j += 1\n",
    "    p_j = number_of_positive_instances_in_top_j / (j + 1)\n",
    "\n",
    "    # Calculate pos(j)\n",
    "    pos_j = 0\n",
    "    document_j = similarities[j]\n",
    "    for file in fixed_files:\n",
    "      if file in document_j[0] or file == document_j[0]:\n",
    "        pos_j = 1\n",
    "\n",
    "    precision.append((p_j * pos_j) / len(fixed_files))\n",
    "\n",
    "  return sum(precision)"
   ]
  },
  {
   "cell_type": "markdown",
   "metadata": {},
   "source": [
    "# Let's calculate the scores\n",
    "\n",
    "Not bad! Actually, not far off of BugLocator for the LANG and SocialFB projects."
   ]
  },
  {
   "cell_type": "code",
   "execution_count": 278,
   "metadata": {},
   "outputs": [
    {
     "data": {
      "image/png": "[encoded data removed]",
      "text/plain": [
       "<Figure size 1440x720 with 1 Axes>"
      ]
     },
     "metadata": {
      "needs_background": "light"
     },
     "output_type": "display_data"
    },
    {
     "data": {
      "image/png": "[encoded data removed]",
      "text/plain": [
       "<Figure size 1440x720 with 1 Axes>"
      ]
     },
     "metadata": {
      "needs_background": "light"
     },
     "output_type": "display_data"
    }
   ],
   "source": [
    "def calculate_scores(bug_reports, metric_function, column_name, score_label):\n",
    "  # Calculate the average precision for each bug report\n",
    "  for row, bug_report in bug_reports.iterrows():\n",
    "    score = metric_function(bug_report, score_label)\n",
    "    bug_reports.at[row, column_name] = score\n",
    "\n",
    "  # Group the project bugs, and compute the net MAP per project\n",
    "  project_bug_reports = [group for _, group in bug_reports.groupby('project')]\n",
    "  project_scores = defaultdict()\n",
    "  projects = bug_reports['project'].unique()\n",
    "  for project in projects:\n",
    "    project_scores[project] = 0\n",
    "  for project_bug_report in project_bug_reports:\n",
    "    score = np.mean(project_bug_report[column_name])\n",
    "    project_scores[project_bug_report['project'][0]] = score\n",
    "  \n",
    "  return project_scores\n",
    "\n",
    "# Calculate and plot the MRR\n",
    "project_scores = calculate_scores(bug_reports, calculate_adjusted_MRR, 'adjusted_MRR', 'similarities')\n",
    "project_scores = dict(sorted(project_scores.items(), key=lambda item: item[1]))\n",
    "plt.figure(figsize=(20, 10))\n",
    "plt.bar(range(len(project_scores)), list(project_scores.values()), tick_label=list(project_scores.keys()))\n",
    "plt.xlabel('Projects')\n",
    "plt.ylabel('Adjusted MRR Score')\n",
    "plt.title('Adjusted MRR Score for each Project')\n",
    "plt.show()\n",
    "\n",
    "# Calculate and plot the MAP\n",
    "project_scores = calculate_scores(bug_reports, calculate_average_precision, 'average_precision', 'similarities')\n",
    "project_scores = dict(sorted(project_scores.items(), key=lambda item: item[1]))\n",
    "plt.figure(figsize=(20, 10))\n",
    "plt.bar(range(len(project_scores)), list(project_scores.values()), tick_label=list(project_scores.keys()))\n",
    "plt.xlabel('Projects')\n",
    "plt.ylabel('MAP Score')\n",
    "plt.title('MAP Score for each Project')\n",
    "plt.show()"
   ]
  },
  {
   "cell_type": "markdown",
   "metadata": {},
   "source": [
    "# Method 2\n",
    "\n",
    "In this step, we will develop a new IRFL method and comparing to Method 1.\n",
    "\n",
    "We will roughly implement the BugLocator tool. We will use the same preprocessing as TF-IDF code we developed for method 1 to calculate an indirect relevancy function. Then, we will use a weighted average of the direct relevancy function and indirect relevancy function to do the ranking for this method. The indirect function calculates the similarity between the new bug report and the historical ones. Then, given that we already know which exact files have been fixed for each historical bug report. So, we can map files to historical bug reports. Then, the algorithm ranks source files according to their indirect similarity (the similarity of a source file's corresponding historical report(s) to the new bug report) to the new bug report.\n",
    "\n",
    "- Method 2 MUST improve method 1 results.\n",
    " "
   ]
  },
  {
   "cell_type": "markdown",
   "metadata": {},
   "source": [
    "# First, let's get our data in order\n",
    "\n",
    "We need to split our bug reports into testing and training sets. Since the bugs are dated, we can sort them to use the newest bugs as our testing set and historical bugs as our training set. We will split the training set as the oldest 80% of the bug reports and the testing set as the newest 20% of the reports.\n",
    "\n",
    "But, we need to be careful! Some projects have more source code than others. We need to make sure we *evenly* split the bug reports into testing and training sets for *each* project."
   ]
  },
  {
   "cell_type": "code",
   "execution_count": 279,
   "metadata": {},
   "outputs": [],
   "source": [
    "def split_testing_training(bug_reports):\n",
    "  # Split the dataset into project bug reports\n",
    "  project_bug_reports = [group for _, group in bug_reports.groupby('project')]\n",
    "\n",
    "  # Split the project reports by data with an 80/20 training/testing split\n",
    "  testing_bug_reports = []\n",
    "  training_bug_reports = []\n",
    "  for project_reports in project_bug_reports:\n",
    "    project_reports.sort_values('fixdate', inplace = True, ascending = True)\n",
    "    break_index = math.ceil((len(project_reports) - 1) * .7)\n",
    "    testing_bug_reports.append(project_reports.iloc[break_index:, :])\n",
    "    training_bug_reports.append(project_reports.iloc[:break_index, :])\n",
    "\n",
    "  # Create pandas\n",
    "  testing_bug_reports = pd.concat(testing_bug_reports)\n",
    "  training_bug_reports = pd.concat(training_bug_reports)\n",
    "\n",
    "  return (testing_bug_reports, training_bug_reports)\n",
    "\n",
    "testing_bug_reports, training_bug_reports = split_testing_training(bug_reports.copy())\n",
    "testing_bug_reports['indirect_relevancies'] = np.empty((len(testing_bug_reports), 0)).tolist()\n",
    "testing_bug_reports['final_scores'] = np.empty((len(testing_bug_reports), 0)).tolist()\n"
   ]
  },
  {
   "cell_type": "markdown",
   "metadata": {},
   "source": [
    "# Indirect Relevancy Function\n",
    "\n",
    "We will define the indirect relevancy function as follows:\n",
    "\n",
    "By comparing new bug reports to old ones, we can compute the similarity using the same methods as in Method 1. This function assumes that if two bugs are similar, their fixed source code files are relevant to each other. Thus, we can compute the similarity between bugs using TF-IDF, then rank the similarity of bugs and their respective source files. \n",
    "\n",
    "Note that the BugLocator paper implements a custom similarity score between bug reports and source files, but does not explicitely mention their similarity scoring method between bugs. It is likely that they used their rVSM method to compute these similarities, but we will not be doing that. Instead, we will just use the TfidfVectorizer from scikit-learn.\n",
    "\n",
    "To calculate the SimiScore, we will use the following from the BugLocator paper:\n",
    "\n",
    "$SimiScore = \\sum_{\\text{All } S_i \\text{that connects to } F_j}^{} \\frac{Similarity(B, S_i)}{n_i}$\n",
    "\n",
    "- Where $B$ is the new bug to be located (a bug in the testing set)\n",
    "- Where $S_i$ is a bug related to a file $F_j$\n",
    "- Where $n_i$ is the total number of fixed files $S_i$ has"
   ]
  },
  {
   "cell_type": "code",
   "execution_count": 280,
   "metadata": {},
   "outputs": [],
   "source": [
    "def compute_indirect_relevancy(testing_report, training_reports):\n",
    "  # First, we find the similarity score for B, S_i\n",
    "  vectorizer = TfidfVectorizer(sublinear_tf = True)\n",
    "  training_vector = vectorizer.fit_transform(training_reports['text'])\n",
    "  testing_vector = vectorizer.transform([testing_report['text']])\n",
    "  similarity_score = cosine_similarity(testing_vector, training_vector)\n",
    "\n",
    "  # Extract the scores, this list will be in the same order as testing reports\n",
    "  scores = []\n",
    "  for score in similarity_score:\n",
    "    scores.append(score[0])\n",
    "\n",
    "  # Find all bug reports linked to F_j\n",
    "  file_reports = defaultdict()\n",
    "  for _, testing_report in training_reports.iterrows():\n",
    "    for file in testing_report['fix']:\n",
    "      if file not in file_reports:\n",
    "        file_reports[file] = []\n",
    "      file_reports[file].append(testing_report)\n",
    "\n",
    "  # Calculate the SimiScore for each file\n",
    "  simi_scores = []\n",
    "  for file in file_reports.keys():\n",
    "    simi_score_sum = []\n",
    "    for bug_report in file_reports[file]:\n",
    "      n_i = len(bug_report['fix'])\n",
    "      # Find the index of the testing report in the scores\n",
    "      score_index = 0\n",
    "      for _, testing_report in training_reports.iterrows():\n",
    "        if testing_report.index[0] == bug_report.index[0]:\n",
    "          break\n",
    "        score_index += 1\n",
    "      score = scores[score_index]\n",
    "      simi_score_sum.append(score / n_i)\n",
    "    simi_scores.append((file, sum(simi_score_sum)))\n",
    "\n",
    "  # Finally, let's normalize the simi scores\n",
    "  x_max = max(x[1] for x in simi_scores)\n",
    "  x_min = min(x[1] for x in simi_scores)\n",
    "  for i, score in enumerate(simi_scores):\n",
    "    if x_max - x_min == 0:\n",
    "      simi_scores[i] = (score[0], 0)\n",
    "    else:\n",
    "      normalized = (score[1] - x_min) / (x_max - x_min)\n",
    "      simi_scores[i] = (score[0], normalized)\n",
    "  simi_scores = sorted(simi_scores, key = lambda x: x[1], reverse = True)\n",
    "\n",
    "  return simi_scores\n",
    "\n",
    "def compute_indirect_relevancies(training_reports, testing_reports):\n",
    "  for row, testing_report in testing_reports.iterrows():\n",
    "    testing_reports.at[row, 'indirect_relevancies'] = compute_indirect_relevancy(testing_report, training_reports)\n",
    "  return testing_reports"
   ]
  },
  {
   "cell_type": "markdown",
   "metadata": {},
   "source": [
    "Compute the indirect relevancy:"
   ]
  },
  {
   "cell_type": "code",
   "execution_count": 281,
   "metadata": {},
   "outputs": [],
   "source": [
    "if __name__ == \"__main__\":\n",
    "  # Create project groups for testing and training bugs and process them separately\n",
    "  project_testing_bug_reports = [group for _, group in testing_bug_reports.groupby('project')]\n",
    "  project_training_bug_reports = [group for _, group in training_bug_reports.groupby('project')]\n",
    "  if os.name == 'posix':\n",
    "    with mp.get_context('fork').Pool(processes = len(project_bug_reports)) as p:\n",
    "      testing_bug_reports = pd.concat(\n",
    "        p.starmap(\n",
    "          compute_indirect_relevancies,\n",
    "          zip(project_training_bug_reports, project_testing_bug_reports)\n",
    "        )\n",
    "      )\n",
    "  elif os.name == 'nt':\n",
    "    with mp.Pool(processes = len(project_bug_reports)) as p:\n",
    "      bug_reports = pd.concat(\n",
    "        p.starmap(\n",
    "          compute_similarities,\n",
    "          zip(project_bug_reports, project_source_files)\n",
    "        )\n",
    "      )\n",
    "  elif os.name == 'java':\n",
    "    # Sorry\n",
    "    pass"
   ]
  },
  {
   "cell_type": "markdown",
   "metadata": {},
   "source": [
    "# Let's calculate the final score\n",
    "\n",
    "Using "
   ]
  },
  {
   "cell_type": "code",
   "execution_count": 297,
   "metadata": {},
   "outputs": [],
   "source": [
    "def calculate_final_scores(bug_reports, α):\n",
    "  all_final_scores = []\n",
    "  for _, bug_report in bug_reports.iterrows():\n",
    "    final_scores = []\n",
    "    indirect_relevancies = bug_report['indirect_relevancies']\n",
    "    for similarity in bug_report['similarities']:\n",
    "      file = similarity[0]\n",
    "      score = similarity[1]\n",
    "      corresponding_relevancy = None\n",
    "      for ir in indirect_relevancies:\n",
    "        if ir[0] == file or ir[0] in file:\n",
    "          corresponding_relevancy = ir[1]\n",
    "          break\n",
    "      if corresponding_relevancy == None:\n",
    "        corresponding_relevancy = 0\n",
    "      final_score = ((1 - α) * score) + (α * corresponding_relevancy)\n",
    "      final_scores.append((file, final_score))\n",
    "    \n",
    "    final_scores = sorted(final_scores, key = lambda x: x[1], reverse = True)\n",
    "    all_final_scores.append(final_scores)\n",
    "  return all_final_scores"
   ]
  },
  {
   "cell_type": "markdown",
   "metadata": {},
   "source": [
    "# Let's check MRR and MAP scores with different α values"
   ]
  },
  {
   "cell_type": "code",
   "execution_count": 307,
   "metadata": {},
   "outputs": [
    {
     "ename": "ValueError",
     "evalue": "x and y must have same first dimension, but have shapes (21,) and (1,)",
     "output_type": "error",
     "traceback": [
      "\u001b[0;31m---------------------------------------------------------------------------\u001b[0m",
      "\u001b[0;31mValueError\u001b[0m                                Traceback (most recent call last)",
      "\u001b[0;32m<ipython-input-307-24a9c6e6d85e>\u001b[0m in \u001b[0;36m<module>\u001b[0;34m\u001b[0m\n\u001b[1;32m     21\u001b[0m \u001b[0;34m\u001b[0m\u001b[0m\n\u001b[1;32m     22\u001b[0m \u001b[0;31m# Plot MRR scores\u001b[0m\u001b[0;34m\u001b[0m\u001b[0;34m\u001b[0m\u001b[0;34m\u001b[0m\u001b[0m\n\u001b[0;32m---> 23\u001b[0;31m \u001b[0mplot_scores_vs_α\u001b[0m\u001b[0;34m(\u001b[0m\u001b[0mtesting_bug_reports\u001b[0m\u001b[0;34m,\u001b[0m \u001b[0mcalculate_adjusted_MRR\u001b[0m\u001b[0;34m,\u001b[0m \u001b[0;34m'adjusted_MRR'\u001b[0m\u001b[0;34m,\u001b[0m \u001b[0;34m'final_scores'\u001b[0m\u001b[0;34m)\u001b[0m\u001b[0;34m\u001b[0m\u001b[0;34m\u001b[0m\u001b[0m\n\u001b[0m\u001b[1;32m     24\u001b[0m \u001b[0;34m\u001b[0m\u001b[0m\n\u001b[1;32m     25\u001b[0m \u001b[0;31m# Plot MAP scores\u001b[0m\u001b[0;34m\u001b[0m\u001b[0;34m\u001b[0m\u001b[0;34m\u001b[0m\u001b[0m\n",
      "\u001b[0;32m<ipython-input-307-24a9c6e6d85e>\u001b[0m in \u001b[0;36mplot_scores_vs_α\u001b[0;34m(*args)\u001b[0m\n\u001b[1;32m     14\u001b[0m \u001b[0;34m\u001b[0m\u001b[0m\n\u001b[1;32m     15\u001b[0m     \u001b[0;32mfor\u001b[0m \u001b[0mk\u001b[0m\u001b[0;34m,\u001b[0m \u001b[0mv\u001b[0m \u001b[0;32min\u001b[0m \u001b[0mmetric_scores\u001b[0m\u001b[0;34m.\u001b[0m\u001b[0mitems\u001b[0m\u001b[0;34m(\u001b[0m\u001b[0;34m)\u001b[0m\u001b[0;34m:\u001b[0m\u001b[0;34m\u001b[0m\u001b[0;34m\u001b[0m\u001b[0m\n\u001b[0;32m---> 16\u001b[0;31m       \u001b[0mplt\u001b[0m\u001b[0;34m.\u001b[0m\u001b[0mplot\u001b[0m\u001b[0;34m(\u001b[0m\u001b[0mα_range\u001b[0m\u001b[0;34m,\u001b[0m \u001b[0mv\u001b[0m\u001b[0;34m,\u001b[0m \u001b[0mlabel\u001b[0m \u001b[0;34m=\u001b[0m \u001b[0mk\u001b[0m\u001b[0;34m,\u001b[0m \u001b[0mlinestyle\u001b[0m \u001b[0;34m=\u001b[0m \u001b[0;34m\"-\"\u001b[0m\u001b[0;34m)\u001b[0m\u001b[0;34m\u001b[0m\u001b[0;34m\u001b[0m\u001b[0m\n\u001b[0m\u001b[1;32m     17\u001b[0m \u001b[0;34m\u001b[0m\u001b[0m\n\u001b[1;32m     18\u001b[0m     \u001b[0mplt\u001b[0m\u001b[0;34m.\u001b[0m\u001b[0mrcParams\u001b[0m\u001b[0;34m[\u001b[0m\u001b[0;34m\"figure.figsize\"\u001b[0m\u001b[0;34m]\u001b[0m \u001b[0;34m=\u001b[0m \u001b[0;34m(\u001b[0m\u001b[0;36m40\u001b[0m\u001b[0;34m,\u001b[0m \u001b[0;36m10\u001b[0m\u001b[0;34m)\u001b[0m\u001b[0;34m\u001b[0m\u001b[0;34m\u001b[0m\u001b[0m\n",
      "\u001b[0;32m~/opt/anaconda3/lib/python3.8/site-packages/matplotlib/pyplot.py\u001b[0m in \u001b[0;36mplot\u001b[0;34m(scalex, scaley, data, *args, **kwargs)\u001b[0m\n\u001b[1;32m   2838\u001b[0m \u001b[0;34m@\u001b[0m\u001b[0m_copy_docstring_and_deprecators\u001b[0m\u001b[0;34m(\u001b[0m\u001b[0mAxes\u001b[0m\u001b[0;34m.\u001b[0m\u001b[0mplot\u001b[0m\u001b[0;34m)\u001b[0m\u001b[0;34m\u001b[0m\u001b[0;34m\u001b[0m\u001b[0m\n\u001b[1;32m   2839\u001b[0m \u001b[0;32mdef\u001b[0m \u001b[0mplot\u001b[0m\u001b[0;34m(\u001b[0m\u001b[0;34m*\u001b[0m\u001b[0margs\u001b[0m\u001b[0;34m,\u001b[0m \u001b[0mscalex\u001b[0m\u001b[0;34m=\u001b[0m\u001b[0;32mTrue\u001b[0m\u001b[0;34m,\u001b[0m \u001b[0mscaley\u001b[0m\u001b[0;34m=\u001b[0m\u001b[0;32mTrue\u001b[0m\u001b[0;34m,\u001b[0m \u001b[0mdata\u001b[0m\u001b[0;34m=\u001b[0m\u001b[0;32mNone\u001b[0m\u001b[0;34m,\u001b[0m \u001b[0;34m**\u001b[0m\u001b[0mkwargs\u001b[0m\u001b[0;34m)\u001b[0m\u001b[0;34m:\u001b[0m\u001b[0;34m\u001b[0m\u001b[0;34m\u001b[0m\u001b[0m\n\u001b[0;32m-> 2840\u001b[0;31m     return gca().plot(\n\u001b[0m\u001b[1;32m   2841\u001b[0m         \u001b[0;34m*\u001b[0m\u001b[0margs\u001b[0m\u001b[0;34m,\u001b[0m \u001b[0mscalex\u001b[0m\u001b[0;34m=\u001b[0m\u001b[0mscalex\u001b[0m\u001b[0;34m,\u001b[0m \u001b[0mscaley\u001b[0m\u001b[0;34m=\u001b[0m\u001b[0mscaley\u001b[0m\u001b[0;34m,\u001b[0m\u001b[0;34m\u001b[0m\u001b[0;34m\u001b[0m\u001b[0m\n\u001b[1;32m   2842\u001b[0m         **({\"data\": data} if data is not None else {}), **kwargs)\n",
      "\u001b[0;32m~/opt/anaconda3/lib/python3.8/site-packages/matplotlib/axes/_axes.py\u001b[0m in \u001b[0;36mplot\u001b[0;34m(self, scalex, scaley, data, *args, **kwargs)\u001b[0m\n\u001b[1;32m   1741\u001b[0m         \"\"\"\n\u001b[1;32m   1742\u001b[0m         \u001b[0mkwargs\u001b[0m \u001b[0;34m=\u001b[0m \u001b[0mcbook\u001b[0m\u001b[0;34m.\u001b[0m\u001b[0mnormalize_kwargs\u001b[0m\u001b[0;34m(\u001b[0m\u001b[0mkwargs\u001b[0m\u001b[0;34m,\u001b[0m \u001b[0mmlines\u001b[0m\u001b[0;34m.\u001b[0m\u001b[0mLine2D\u001b[0m\u001b[0;34m)\u001b[0m\u001b[0;34m\u001b[0m\u001b[0;34m\u001b[0m\u001b[0m\n\u001b[0;32m-> 1743\u001b[0;31m         \u001b[0mlines\u001b[0m \u001b[0;34m=\u001b[0m \u001b[0;34m[\u001b[0m\u001b[0;34m*\u001b[0m\u001b[0mself\u001b[0m\u001b[0;34m.\u001b[0m\u001b[0m_get_lines\u001b[0m\u001b[0;34m(\u001b[0m\u001b[0;34m*\u001b[0m\u001b[0margs\u001b[0m\u001b[0;34m,\u001b[0m \u001b[0mdata\u001b[0m\u001b[0;34m=\u001b[0m\u001b[0mdata\u001b[0m\u001b[0;34m,\u001b[0m \u001b[0;34m**\u001b[0m\u001b[0mkwargs\u001b[0m\u001b[0;34m)\u001b[0m\u001b[0;34m]\u001b[0m\u001b[0;34m\u001b[0m\u001b[0;34m\u001b[0m\u001b[0m\n\u001b[0m\u001b[1;32m   1744\u001b[0m         \u001b[0;32mfor\u001b[0m \u001b[0mline\u001b[0m \u001b[0;32min\u001b[0m \u001b[0mlines\u001b[0m\u001b[0;34m:\u001b[0m\u001b[0;34m\u001b[0m\u001b[0;34m\u001b[0m\u001b[0m\n\u001b[1;32m   1745\u001b[0m             \u001b[0mself\u001b[0m\u001b[0;34m.\u001b[0m\u001b[0madd_line\u001b[0m\u001b[0;34m(\u001b[0m\u001b[0mline\u001b[0m\u001b[0;34m)\u001b[0m\u001b[0;34m\u001b[0m\u001b[0;34m\u001b[0m\u001b[0m\n",
      "\u001b[0;32m~/opt/anaconda3/lib/python3.8/site-packages/matplotlib/axes/_base.py\u001b[0m in \u001b[0;36m__call__\u001b[0;34m(self, data, *args, **kwargs)\u001b[0m\n\u001b[1;32m    271\u001b[0m                 \u001b[0mthis\u001b[0m \u001b[0;34m+=\u001b[0m \u001b[0margs\u001b[0m\u001b[0;34m[\u001b[0m\u001b[0;36m0\u001b[0m\u001b[0;34m]\u001b[0m\u001b[0;34m,\u001b[0m\u001b[0;34m\u001b[0m\u001b[0;34m\u001b[0m\u001b[0m\n\u001b[1;32m    272\u001b[0m                 \u001b[0margs\u001b[0m \u001b[0;34m=\u001b[0m \u001b[0margs\u001b[0m\u001b[0;34m[\u001b[0m\u001b[0;36m1\u001b[0m\u001b[0;34m:\u001b[0m\u001b[0;34m]\u001b[0m\u001b[0;34m\u001b[0m\u001b[0;34m\u001b[0m\u001b[0m\n\u001b[0;32m--> 273\u001b[0;31m             \u001b[0;32myield\u001b[0m \u001b[0;32mfrom\u001b[0m \u001b[0mself\u001b[0m\u001b[0;34m.\u001b[0m\u001b[0m_plot_args\u001b[0m\u001b[0;34m(\u001b[0m\u001b[0mthis\u001b[0m\u001b[0;34m,\u001b[0m \u001b[0mkwargs\u001b[0m\u001b[0;34m)\u001b[0m\u001b[0;34m\u001b[0m\u001b[0;34m\u001b[0m\u001b[0m\n\u001b[0m\u001b[1;32m    274\u001b[0m \u001b[0;34m\u001b[0m\u001b[0m\n\u001b[1;32m    275\u001b[0m     \u001b[0;32mdef\u001b[0m \u001b[0mget_next_color\u001b[0m\u001b[0;34m(\u001b[0m\u001b[0mself\u001b[0m\u001b[0;34m)\u001b[0m\u001b[0;34m:\u001b[0m\u001b[0;34m\u001b[0m\u001b[0;34m\u001b[0m\u001b[0m\n",
      "\u001b[0;32m~/opt/anaconda3/lib/python3.8/site-packages/matplotlib/axes/_base.py\u001b[0m in \u001b[0;36m_plot_args\u001b[0;34m(self, tup, kwargs)\u001b[0m\n\u001b[1;32m    397\u001b[0m \u001b[0;34m\u001b[0m\u001b[0m\n\u001b[1;32m    398\u001b[0m         \u001b[0;32mif\u001b[0m \u001b[0mx\u001b[0m\u001b[0;34m.\u001b[0m\u001b[0mshape\u001b[0m\u001b[0;34m[\u001b[0m\u001b[0;36m0\u001b[0m\u001b[0;34m]\u001b[0m \u001b[0;34m!=\u001b[0m \u001b[0my\u001b[0m\u001b[0;34m.\u001b[0m\u001b[0mshape\u001b[0m\u001b[0;34m[\u001b[0m\u001b[0;36m0\u001b[0m\u001b[0;34m]\u001b[0m\u001b[0;34m:\u001b[0m\u001b[0;34m\u001b[0m\u001b[0;34m\u001b[0m\u001b[0m\n\u001b[0;32m--> 399\u001b[0;31m             raise ValueError(f\"x and y must have same first dimension, but \"\n\u001b[0m\u001b[1;32m    400\u001b[0m                              f\"have shapes {x.shape} and {y.shape}\")\n\u001b[1;32m    401\u001b[0m         \u001b[0;32mif\u001b[0m \u001b[0mx\u001b[0m\u001b[0;34m.\u001b[0m\u001b[0mndim\u001b[0m \u001b[0;34m>\u001b[0m \u001b[0;36m2\u001b[0m \u001b[0;32mor\u001b[0m \u001b[0my\u001b[0m\u001b[0;34m.\u001b[0m\u001b[0mndim\u001b[0m \u001b[0;34m>\u001b[0m \u001b[0;36m2\u001b[0m\u001b[0;34m:\u001b[0m\u001b[0;34m\u001b[0m\u001b[0;34m\u001b[0m\u001b[0m\n",
      "\u001b[0;31mValueError\u001b[0m: x and y must have same first dimension, but have shapes (21,) and (1,)"
     ]
    },
    {
     "data": {
      "image/png": "[encoded data removed]",
      "text/plain": [
       "<Figure size 1440x720 with 1 Axes>"
      ]
     },
     "metadata": {
      "needs_background": "light"
     },
     "output_type": "display_data"
    }
   ],
   "source": [
    "def plot_scores_vs_α(*args):\n",
    "  metric_scores = defaultdict()\n",
    "  α_range = [α / 100 for α in range(0, 105, 5)]\n",
    "\n",
    "  for α in α_range:\n",
    "    all_final_scores = calculate_final_scores(testing_bug_reports, α)\n",
    "    testing_bug_reports['final_scores'] = all_final_scores\n",
    "    scores = calculate_scores(*args)\n",
    "    scores = dict(sorted(scores.items(), key=lambda item: item[1]))\n",
    "    for k, v in scores.items():\n",
    "      if k not in metric_scores:\n",
    "        metric_scores[k] = []\n",
    "      metric_scores[k].append(v)\n",
    "\n",
    "  for k, v in metric_scores.items():\n",
    "    plt.plot(α_range, v, label = k, linestyle = \"-\")\n",
    "\n",
    "  plt.rcParams[\"figure.figsize\"] = (40, 10)\n",
    "  plt.legend()\n",
    "  plt.show()\n",
    "\n",
    "# Plot MRR scores\n",
    "plot_scores_vs_α(testing_bug_reports, calculate_adjusted_MRR, 'adjusted_MRR', 'final_scores')\n",
    "\n",
    "# Plot MAP scores\n",
    "plot_scores_vs_α(testing_bug_reports, calculate_average_precision, 'average_precision', 'final_scores')"
   ]
  },
  {
   "cell_type": "markdown",
   "metadata": {},
   "source": [
    "# Comparing Method 1 and 2 MRR Scores"
   ]
  },
  {
   "cell_type": "code",
   "execution_count": 305,
   "metadata": {},
   "outputs": [
    {
     "data": {
      "image/png": "[encoded data removed]",
      "text/plain": [
       "<Figure size 2880x720 with 1 Axes>"
      ]
     },
     "metadata": {
      "needs_background": "light"
     },
     "output_type": "display_data"
    }
   ],
   "source": [
    "method1_scores = calculate_scores(bug_reports, calculate_adjusted_MRR, 'adjusted_MRR', 'similarities')\n",
    "method1_scores = dict(sorted(method1_scores.items(), key=lambda item: item[1]))\n",
    "\n",
    "testing_bug_reports['final_scores'] = calculate_final_scores(testing_bug_reports, 0.25)\n",
    "method2_scores_α025 = calculate_scores(testing_bug_reports, calculate_adjusted_MRR, 'adjusted_MRR', 'final_scores')\n",
    "method2_scores_α025 = dict(sorted(method2_scores_α025.items(), key=lambda item: item[1]))\n",
    "\n",
    "testing_bug_reports['final_scores'] = calculate_final_scores(testing_bug_reports, 0.3)\n",
    "method2_scores_α030 = calculate_scores(testing_bug_reports, calculate_adjusted_MRR, 'adjusted_MRR', 'final_scores')\n",
    "method2_scores_α030 = dict(sorted(method2_scores_α030.items(), key=lambda item: item[1]))\n",
    "\n",
    "testing_bug_reports['final_scores'] = calculate_final_scores(testing_bug_reports, 0.35)\n",
    "method2_scores_α035 = calculate_scores(testing_bug_reports, calculate_adjusted_MRR, 'adjusted_MRR', 'final_scores')\n",
    "method2_scores_α035 = dict(sorted(method2_scores_α035.items(), key=lambda item: item[1]))\n",
    "\n",
    "testing_bug_reports['final_scores'] = calculate_final_scores(testing_bug_reports, 0.40)\n",
    "method2_scores_α040 = calculate_scores(testing_bug_reports, calculate_adjusted_MRR, 'adjusted_MRR', 'final_scores')\n",
    "method2_scores_α040 = dict(sorted(method2_scores_α040.items(), key=lambda item: item[1]))\n",
    "\n",
    "labels = list(method1_scores.keys())\n",
    "x = np.arange(len(labels))\n",
    "width = 0.15\n",
    "\n",
    "fig, ax = plt.subplots()\n",
    "ax.bar(x - 0.3, list(method1_scores.values()), width, label=\"Method 1\")\n",
    "ax.bar(x - 0.15, list(method2_scores_α025.values()), width, label=\"Method 2; α = 0.25\")\n",
    "ax.bar(x + 0.0, list(method2_scores_α030.values()), width, label=\"Method 2; α = 0.30\")\n",
    "ax.bar(x + 0.15, list(method2_scores_α035.values()), width, label=\"Method 2; α = 0.35\")\n",
    "ax.bar(x + 0.30, list(method2_scores_α040.values()), width, label=\"Method 2; α = 0.40\")\n",
    "\n",
    "ax.set_xlabel('Project')\n",
    "ax.set_ylabel('Adjusted MRR Score')\n",
    "ax.set_title('Project MRR scores between Method 1 and 2')\n",
    "ax.set_xticks(x)\n",
    "ax.set_xticklabels(labels)\n",
    "ax.legend()\n",
    "\n",
    "fig.set_size_inches(40, 10)\n",
    "plt.show()\n"
   ]
  },
  {
   "cell_type": "markdown",
   "metadata": {},
   "source": [
    "# Comparing Method 1 and 2 MAP Scores"
   ]
  },
  {
   "cell_type": "code",
   "execution_count": 300,
   "metadata": {},
   "outputs": [
    {
     "data": {
      "image/png": "[encoded data removed]",
      "text/plain": [
       "<Figure size 1440x360 with 1 Axes>"
      ]
     },
     "metadata": {
      "needs_background": "light"
     },
     "output_type": "display_data"
    }
   ],
   "source": [
    "# Comparing Method 1 and 2 MAP scores\n",
    "method1_scores = calculate_scores(bug_reports, calculate_average_precision, 'average_precision', 'similarities')\n",
    "method1_scores = dict(sorted(method1_scores.items(), key=lambda item: item[1]))\n",
    "method2_scores = calculate_scores(testing_bug_reports, calculate_average_precision, 'average_precision', 'final_scores')\n",
    "method2_scores = dict(sorted(method2_scores.items(), key=lambda item: item[1]))\n",
    "\n",
    "labels = list(method1_scores.keys())\n",
    "x = np.arange(len(labels))\n",
    "width = 0.35\n",
    "\n",
    "fig, ax = plt.subplots()\n",
    "rects1 = ax.bar(x - width/2, list(method1_scores.values()), width, label=\"Method 1\")\n",
    "rects2 = ax.bar(x + width/2, list(method2_scores.values()), width, label=\"Method 2\")\n",
    "\n",
    "ax.set_xlabel('Project')\n",
    "ax.set_ylabel('MAP Score')\n",
    "ax.set_title('Project MAP scores between Method 1 and 2')\n",
    "ax.set_xticks(x)\n",
    "ax.set_xticklabels(labels)\n",
    "ax.legend()\n",
    "\n",
    "fig.set_size_inches(40, 10)\n",
    "plt.show()"
   ]
  },
  {
   "cell_type": "markdown",
   "metadata": {},
   "source": [
    "# Method 3\n",
    "\n",
    "This is our brand new FL technique applicable on this dataset. The novel approach should use a machine learning/information retrieval method that is not taught in class. It is okay if the method is already proposed in the FL literature and is published, however, your code cannot be copy-pasted. This method does not need to outperform the other methods."
   ]
  },
  {
   "cell_type": "markdown",
   "metadata": {},
   "source": [
    "# The Approach"
   ]
  },
  {
   "cell_type": "code",
   "execution_count": 20,
   "metadata": {},
   "outputs": [],
   "source": [
    "# TODO by December 16, 11:59 PM!\n",
    "# Hugging face\n",
    "# Depending on how informative the functions are in the source code, add in help files\n",
    "# Might be more descriptive than the name of a function"
   ]
  }
 ],
 "metadata": {
  "interpreter": {
   "hash": "59492509ee09bb1e98cb3b73aca52e57ed875f73ef434eaac26b9b50866a2d0e"
  },
  "kernelspec": {
   "display_name": "Python 3.8.8 64-bit ('base': conda)",
   "name": "python3"
  },
  "language_info": {
   "codemirror_mode": {
    "name": "ipython",
    "version": 3
   },
   "file_extension": ".py",
   "mimetype": "text/x-python",
   "name": "python",
   "nbconvert_exporter": "python",
   "pygments_lexer": "ipython3",
   "version": "3.8.8"
  }
 },
 "nbformat": 4,
 "nbformat_minor": 4
}
